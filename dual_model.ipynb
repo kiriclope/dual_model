{
 "cells": [
  {
   "cell_type": "code",
   "execution_count": 130,
   "id": "b03cd2ed-18e7-4c4b-a726-4744fa818e05",
   "metadata": {
    "collapsed": false
   },
   "outputs": [
    {
     "data": {
      "text/plain": [
       "[]"
      ]
     },
     "execution_count": 130,
     "metadata": {},
     "output_type": "execute_result"
    },
    {
     "data": {
      "image/png": "[encoded data removed]",
      "text/plain": [
       "<Figure size 546.075x450 with 1 Axes>"
      ]
     },
     "metadata": {},
     "output_type": "display_data"
    }
   ],
   "source": [
    "import matplotlib\n",
    "matplotlib.rcParams['figure.figsize'] = [2.427 * .75, 1.5]\n",
    "\n",
    "import matplotlib.pyplot as plt\n",
    "plt.figure()\n",
    "plt.plot()"
   ]
  },
  {
   "cell_type": "code",
   "execution_count": 137,
   "id": "73c96b36-fdbc-43e3-a191-5185bb6e76e2",
   "metadata": {
    "collapsed": true
   },
   "outputs": [],
   "source": [
    "import importlib\n",
    "import dual\n",
    "importlib.reload(dual)\n",
    "\n",
    "from dual.params import path, ksi_path\n",
    "from dual.phase_plane import plot_kappa_plane\n",
    "n_trials = 500"
   ]
  },
  {
   "cell_type": "markdown",
   "id": "8a425c14-1bdd-40ce-9c39-2e2fa4ab2e6b",
   "metadata": {
    "collapsed": false
   },
   "source": [
    "Case $\\xi_S $ and $\\xi_D$  anti colinear "
   ]
  },
  {
   "cell_type": "code",
   "execution_count": 140,
   "id": "e013bdf2-faf3-4f3c-b932-5f3653bf95ad",
   "metadata": {
    "collapsed": false
   },
   "outputs": [
    {
     "name": "stdout",
     "output_type": "stream",
     "text": [
      "/home/leon/bebopalula/cpp/model/simulations/lif/2pop/dual_col/NE_32_NI_8/K2000/STP/Tf_400_Tr_200_U_0.03/low_rank/kappa_4.70_kappa_1_4.70/seed_2\n",
      "/home/leon/bebopalula/cpp/model/connectivity/2pop/NE_32_NI_8/low_rank/rank_2/seed_ksi_2\n"
     ]
    },
    {
     "name": "stderr",
     "output_type": "stream",
     "text": [
      "\r",
      "overlap trial:   0% 0/200 [00:00<?, ?it/s]"
     ]
    },
    {
     "name": "stderr",
     "output_type": "stream",
     "text": [
      "\r",
      "overlap trial:   0% 1/200 [00:03<10:55,  3.29s/it]"
     ]
    },
    {
     "name": "stderr",
     "output_type": "stream",
     "text": [
      "\r",
      "overlap trial:   4% 9/200 [00:03<00:52,  3.61it/s]"
     ]
    },
    {
     "name": "stderr",
     "output_type": "stream",
     "text": [
      "\r",
      "overlap trial:   7% 14/200 [00:03<00:30,  6.15it/s]"
     ]
    },
    {
     "name": "stderr",
     "output_type": "stream",
     "text": [
      "\r",
      "overlap trial:  11% 22/200 [00:03<00:15, 11.33it/s]"
     ]
    },
    {
     "name": "stderr",
     "output_type": "stream",
     "text": [
      "\r",
      "overlap trial:  16% 32/200 [00:03<00:08, 19.04it/s]"
     ]
    },
    {
     "name": "stderr",
     "output_type": "stream",
     "text": [
      "\r",
      "overlap trial:  20% 39/200 [00:03<00:06, 24.30it/s]"
     ]
    },
    {
     "name": "stderr",
     "output_type": "stream",
     "text": [
      "\r",
      "overlap trial:  22% 45/200 [00:04<00:06, 24.82it/s]"
     ]
    },
    {
     "name": "stderr",
     "output_type": "stream",
     "text": [
      "\r",
      "overlap trial:  25% 50/200 [00:04<00:08, 18.09it/s]"
     ]
    },
    {
     "name": "stderr",
     "output_type": "stream",
     "text": [
      "\r",
      "overlap trial:  27% 54/200 [00:05<00:09, 15.29it/s]"
     ]
    },
    {
     "name": "stderr",
     "output_type": "stream",
     "text": [
      "\r",
      "overlap trial:  30% 61/200 [00:05<00:06, 20.71it/s]"
     ]
    },
    {
     "name": "stderr",
     "output_type": "stream",
     "text": [
      "\r",
      "overlap trial:  32% 65/200 [00:05<00:05, 22.86it/s]"
     ]
    },
    {
     "name": "stderr",
     "output_type": "stream",
     "text": [
      "\r",
      "overlap trial:  36% 71/200 [00:05<00:04, 28.40it/s]"
     ]
    },
    {
     "name": "stderr",
     "output_type": "stream",
     "text": [
      "\r",
      "overlap trial:  42% 84/200 [00:05<00:02, 45.04it/s]"
     ]
    },
    {
     "name": "stderr",
     "output_type": "stream",
     "text": [
      "\r",
      "overlap trial:  46% 91/200 [00:05<00:02, 49.07it/s]"
     ]
    },
    {
     "name": "stderr",
     "output_type": "stream",
     "text": [
      "\r",
      "overlap trial:  50% 99/200 [00:05<00:01, 52.85it/s]"
     ]
    },
    {
     "name": "stderr",
     "output_type": "stream",
     "text": [
      "\r",
      "overlap trial:  53% 106/200 [00:05<00:01, 47.96it/s]"
     ]
    },
    {
     "name": "stderr",
     "output_type": "stream",
     "text": [
      "\r",
      "overlap trial:  56% 112/200 [00:06<00:03, 26.83it/s]"
     ]
    },
    {
     "name": "stderr",
     "output_type": "stream",
     "text": [
      "\r",
      "overlap trial:  58% 117/200 [00:06<00:03, 21.45it/s]"
     ]
    },
    {
     "name": "stderr",
     "output_type": "stream",
     "text": [
      "\r",
      "overlap trial:  61% 122/200 [00:06<00:03, 24.56it/s]"
     ]
    },
    {
     "name": "stderr",
     "output_type": "stream",
     "text": [
      "\r",
      "overlap trial:  63% 126/200 [00:07<00:02, 26.81it/s]"
     ]
    },
    {
     "name": "stderr",
     "output_type": "stream",
     "text": [
      "\r",
      "overlap trial:  68% 135/200 [00:07<00:01, 37.40it/s]"
     ]
    },
    {
     "name": "stderr",
     "output_type": "stream",
     "text": [
      "\r",
      "overlap trial:  70% 141/200 [00:07<00:01, 41.31it/s]"
     ]
    },
    {
     "name": "stderr",
     "output_type": "stream",
     "text": [
      "\r",
      "overlap trial:  74% 147/200 [00:07<00:01, 42.69it/s]"
     ]
    },
    {
     "name": "stderr",
     "output_type": "stream",
     "text": [
      "\r",
      "overlap trial:  76% 153/200 [00:07<00:01, 41.97it/s]"
     ]
    },
    {
     "name": "stderr",
     "output_type": "stream",
     "text": [
      "\r",
      "overlap trial:  80% 159/200 [00:07<00:00, 45.01it/s]"
     ]
    },
    {
     "name": "stderr",
     "output_type": "stream",
     "text": [
      "\r",
      "overlap trial:  82% 164/200 [00:07<00:00, 41.94it/s]"
     ]
    },
    {
     "name": "stderr",
     "output_type": "stream",
     "text": [
      "\r",
      "overlap trial:  84% 169/200 [00:07<00:00, 34.44it/s]"
     ]
    },
    {
     "name": "stderr",
     "output_type": "stream",
     "text": [
      "\r",
      "overlap trial:  86% 173/200 [00:08<00:00, 34.77it/s]"
     ]
    },
    {
     "name": "stderr",
     "output_type": "stream",
     "text": [
      "\r",
      "overlap trial:  88% 177/200 [00:08<00:01, 22.76it/s]"
     ]
    },
    {
     "name": "stderr",
     "output_type": "stream",
     "text": [
      "\r",
      "overlap trial:  94% 187/200 [00:08<00:00, 35.38it/s]"
     ]
    },
    {
     "name": "stderr",
     "output_type": "stream",
     "text": [
      "\r",
      "overlap trial:  96% 192/200 [00:08<00:00, 36.69it/s]"
     ]
    },
    {
     "name": "stderr",
     "output_type": "stream",
     "text": [
      "\r",
      "overlap trial:  99% 198/200 [00:08<00:00, 41.21it/s]"
     ]
    },
    {
     "name": "stderr",
     "output_type": "stream",
     "text": [
      "\r",
      "overlap trial: 100% 200/200 [00:08<00:00, 22.54it/s]"
     ]
    },
    {
     "name": "stderr",
     "output_type": "stream",
     "text": [
      "\n"
     ]
    },
    {
     "name": "stderr",
     "output_type": "stream",
     "text": [
      "\r",
      "overlap trial:   0% 0/200 [00:00<?, ?it/s]"
     ]
    },
    {
     "name": "stderr",
     "output_type": "stream",
     "text": [
      "\r",
      "overlap trial:   0% 1/200 [00:01<05:20,  1.61s/it]"
     ]
    },
    {
     "name": "stderr",
     "output_type": "stream",
     "text": [
      "\r",
      "overlap trial:  10% 19/200 [00:01<00:11, 15.18it/s]"
     ]
    },
    {
     "name": "stderr",
     "output_type": "stream",
     "text": [
      "\r",
      "overlap trial:  20% 41/200 [00:01<00:04, 36.46it/s]"
     ]
    },
    {
     "name": "stderr",
     "output_type": "stream",
     "text": [
      "\r",
      "overlap trial:  28% 57/200 [00:03<00:07, 19.36it/s]"
     ]
    },
    {
     "name": "stderr",
     "output_type": "stream",
     "text": [
      "\r",
      "overlap trial:  34% 67/200 [00:03<00:05, 24.01it/s]"
     ]
    },
    {
     "name": "stderr",
     "output_type": "stream",
     "text": [
      "\r",
      "overlap trial:  47% 94/200 [00:03<00:02, 44.15it/s]"
     ]
    },
    {
     "name": "stderr",
     "output_type": "stream",
     "text": [
      "\r",
      "overlap trial:  55% 110/200 [00:03<00:02, 43.98it/s]"
     ]
    },
    {
     "name": "stderr",
     "output_type": "stream",
     "text": [
      "\r",
      "overlap trial:  61% 122/200 [00:05<00:03, 23.25it/s]"
     ]
    },
    {
     "name": "stderr",
     "output_type": "stream",
     "text": [
      "\r",
      "overlap trial:  73% 146/200 [00:05<00:01, 36.75it/s]"
     ]
    },
    {
     "name": "stderr",
     "output_type": "stream",
     "text": [
      "\r",
      "overlap trial:  80% 159/200 [00:05<00:01, 36.85it/s]"
     ]
    },
    {
     "name": "stderr",
     "output_type": "stream",
     "text": [
      "\r",
      "overlap trial:  84% 169/200 [00:05<00:00, 34.34it/s]"
     ]
    },
    {
     "name": "stderr",
     "output_type": "stream",
     "text": [
      "\r",
      "overlap trial:  88% 177/200 [00:06<00:00, 32.20it/s]"
     ]
    },
    {
     "name": "stderr",
     "output_type": "stream",
     "text": [
      "\r",
      "overlap trial:  92% 184/200 [00:06<00:00, 27.90it/s]"
     ]
    },
    {
     "name": "stderr",
     "output_type": "stream",
     "text": [
      "\r",
      "overlap trial:  94% 189/200 [00:06<00:00, 29.88it/s]"
     ]
    },
    {
     "name": "stderr",
     "output_type": "stream",
     "text": [
      "\r",
      "overlap trial: 100% 200/200 [00:06<00:00, 39.03it/s]"
     ]
    },
    {
     "name": "stderr",
     "output_type": "stream",
     "text": [
      "\r",
      "overlap trial: 100% 200/200 [00:06<00:00, 29.14it/s]"
     ]
    },
    {
     "name": "stderr",
     "output_type": "stream",
     "text": [
      "\n"
     ]
    },
    {
     "data": {
      "image/png": "[encoded data removed]",
      "text/plain": [
       "<Figure size 546.075x450 with 1 Axes>"
      ]
     },
     "metadata": {},
     "output_type": "display_data"
    },
    {
     "data": {
      "image/png": "[encoded data removed]",
      "text/plain": [
       "<Figure size 546.075x450 with 1 Axes>"
      ]
     },
     "metadata": {},
     "output_type": "display_data"
    }
   ],
   "source": [
    "plot_kappa_plane(path=path, ksi_path=ksi_path, n_trials=200)"
   ]
  },
  {
   "cell_type": "markdown",
   "id": "1b31835b-811e-4b19-bf5e-27e372f36a15",
   "metadata": {
    "collapsed": false
   },
   "source": [
    "Case $\\xi_S $ and $\\xi_D$ orthogonal "
   ]
  },
  {
   "cell_type": "code",
   "execution_count": 133,
   "id": "cdfc44f2-549d-4a59-b2ca-5c0510f231c5",
   "metadata": {
    "collapsed": false
   },
   "outputs": [
    {
     "name": "stdout",
     "output_type": "stream",
     "text": [
      "/home/leon/bebopalula/cpp/model/simulations/lif/2pop/dual_ortho/NE_32_NI_8/K2000/STP/Tf_400_Tr_200_U_0.03/low_rank/kappa_4.70_kappa_1_4.70/seed_1\n",
      "/home/leon/bebopalula/cpp/model/connectivity/2pop/NE_32_NI_8/low_rank/rank_2/seed_ksi_1\n"
     ]
    },
    {
     "name": "stderr",
     "output_type": "stream",
     "text": [
      "\r",
      "overlap trial:   0% 0/500 [00:00<?, ?it/s]"
     ]
    },
    {
     "name": "stderr",
     "output_type": "stream",
     "text": [
      "\r",
      "overlap trial:   0% 1/500 [00:01<13:29,  1.62s/it]"
     ]
    },
    {
     "name": "stderr",
     "output_type": "stream",
     "text": [
      "\r",
      "overlap trial:   6% 28/500 [00:01<00:21, 22.38it/s]"
     ]
    },
    {
     "name": "stderr",
     "output_type": "stream",
     "text": [
      "\r",
      "overlap trial:  12% 61/500 [00:01<00:09, 46.88it/s]"
     ]
    },
    {
     "name": "stderr",
     "output_type": "stream",
     "text": [
      "\r",
      "overlap trial:  15% 76/500 [00:03<00:17, 23.58it/s]"
     ]
    },
    {
     "name": "stderr",
     "output_type": "stream",
     "text": [
      "\r",
      "overlap trial:  20% 101/500 [00:03<00:10, 37.33it/s]"
     ]
    },
    {
     "name": "stderr",
     "output_type": "stream",
     "text": [
      "\r",
      "overlap trial:  25% 126/500 [00:03<00:07, 53.01it/s]"
     ]
    },
    {
     "name": "stderr",
     "output_type": "stream",
     "text": [
      "\r",
      "overlap trial:  28% 142/500 [00:05<00:13, 26.88it/s]"
     ]
    },
    {
     "name": "stderr",
     "output_type": "stream",
     "text": [
      "\r",
      "overlap trial:  34% 171/500 [00:05<00:07, 41.88it/s]"
     ]
    },
    {
     "name": "stderr",
     "output_type": "stream",
     "text": [
      "\r",
      "overlap trial:  38% 188/500 [00:05<00:06, 50.47it/s]"
     ]
    },
    {
     "name": "stderr",
     "output_type": "stream",
     "text": [
      "\r",
      "overlap trial:  41% 204/500 [00:06<00:11, 26.69it/s]"
     ]
    },
    {
     "name": "stderr",
     "output_type": "stream",
     "text": [
      "\r",
      "overlap trial:  44% 219/500 [00:06<00:08, 33.61it/s]"
     ]
    },
    {
     "name": "stderr",
     "output_type": "stream",
     "text": [
      "\r",
      "overlap trial:  50% 248/500 [00:06<00:04, 52.53it/s]"
     ]
    },
    {
     "name": "stderr",
     "output_type": "stream",
     "text": [
      "\r",
      "overlap trial:  53% 266/500 [00:08<00:08, 27.83it/s]"
     ]
    },
    {
     "name": "stderr",
     "output_type": "stream",
     "text": [
      "\r",
      "overlap trial:  56% 279/500 [00:08<00:06, 33.14it/s]"
     ]
    },
    {
     "name": "stderr",
     "output_type": "stream",
     "text": [
      "\r",
      "overlap trial:  61% 303/500 [00:08<00:04, 48.07it/s]"
     ]
    },
    {
     "name": "stderr",
     "output_type": "stream",
     "text": [
      "\r",
      "overlap trial:  64% 319/500 [00:09<00:05, 35.84it/s]"
     ]
    },
    {
     "name": "stderr",
     "output_type": "stream",
     "text": [
      "\r",
      "overlap trial:  66% 331/500 [00:10<00:05, 29.24it/s]"
     ]
    },
    {
     "name": "stderr",
     "output_type": "stream",
     "text": [
      "\r",
      "overlap trial:  69% 346/500 [00:10<00:04, 37.21it/s]"
     ]
    },
    {
     "name": "stderr",
     "output_type": "stream",
     "text": [
      "\r",
      "overlap trial:  73% 367/500 [00:10<00:02, 52.60it/s]"
     ]
    },
    {
     "name": "stderr",
     "output_type": "stream",
     "text": [
      "\r",
      "overlap trial:  76% 380/500 [00:10<00:02, 54.93it/s]"
     ]
    },
    {
     "name": "stderr",
     "output_type": "stream",
     "text": [
      "\r",
      "overlap trial:  78% 391/500 [00:11<00:04, 25.97it/s]"
     ]
    },
    {
     "name": "stderr",
     "output_type": "stream",
     "text": [
      "\r",
      "overlap trial:  80% 400/500 [00:11<00:03, 30.21it/s]"
     ]
    },
    {
     "name": "stderr",
     "output_type": "stream",
     "text": [
      "\r",
      "overlap trial:  82% 410/500 [00:11<00:02, 36.01it/s]"
     ]
    },
    {
     "name": "stderr",
     "output_type": "stream",
     "text": [
      "\r",
      "overlap trial:  86% 429/500 [00:12<00:01, 53.26it/s]"
     ]
    },
    {
     "name": "stderr",
     "output_type": "stream",
     "text": [
      "\r",
      "overlap trial:  88% 441/500 [00:12<00:01, 53.98it/s]"
     ]
    },
    {
     "name": "stderr",
     "output_type": "stream",
     "text": [
      "\r",
      "overlap trial:  90% 451/500 [00:13<00:01, 24.95it/s]"
     ]
    },
    {
     "name": "stderr",
     "output_type": "stream",
     "text": [
      "\r",
      "overlap trial:  92% 462/500 [00:13<00:01, 31.05it/s]"
     ]
    },
    {
     "name": "stderr",
     "output_type": "stream",
     "text": [
      "\r",
      "overlap trial:  95% 475/500 [00:13<00:00, 40.37it/s]"
     ]
    },
    {
     "name": "stderr",
     "output_type": "stream",
     "text": [
      "\r",
      "overlap trial:  98% 490/500 [00:13<00:00, 53.79it/s]"
     ]
    },
    {
     "name": "stderr",
     "output_type": "stream",
     "text": [
      "\r",
      "overlap trial: 100% 500/500 [00:13<00:00, 36.25it/s]"
     ]
    },
    {
     "name": "stderr",
     "output_type": "stream",
     "text": [
      "\n"
     ]
    },
    {
     "name": "stderr",
     "output_type": "stream",
     "text": [
      "\r",
      "overlap trial:   0% 0/500 [00:00<?, ?it/s]"
     ]
    },
    {
     "name": "stderr",
     "output_type": "stream",
     "text": [
      "\r",
      "overlap trial:   0% 1/500 [00:01<13:30,  1.62s/it]"
     ]
    },
    {
     "name": "stderr",
     "output_type": "stream",
     "text": [
      "\r",
      "overlap trial:   6% 32/500 [00:01<00:18, 25.59it/s]"
     ]
    },
    {
     "name": "stderr",
     "output_type": "stream",
     "text": [
      "\r",
      "overlap trial:  12% 61/500 [00:01<00:08, 52.89it/s]"
     ]
    },
    {
     "name": "stderr",
     "output_type": "stream",
     "text": [
      "\r",
      "overlap trial:  17% 84/500 [00:03<00:15, 26.14it/s]"
     ]
    },
    {
     "name": "stderr",
     "output_type": "stream",
     "text": [
      "\r",
      "overlap trial:  23% 117/500 [00:03<00:08, 44.09it/s]"
     ]
    },
    {
     "name": "stderr",
     "output_type": "stream",
     "text": [
      "\r",
      "overlap trial:  28% 138/500 [00:05<00:13, 26.41it/s]"
     ]
    },
    {
     "name": "stderr",
     "output_type": "stream",
     "text": [
      "\r",
      "overlap trial:  33% 166/500 [00:05<00:08, 38.80it/s]"
     ]
    },
    {
     "name": "stderr",
     "output_type": "stream",
     "text": [
      "\r",
      "overlap trial:  38% 189/500 [00:05<00:06, 50.09it/s]"
     ]
    },
    {
     "name": "stderr",
     "output_type": "stream",
     "text": [
      "\r",
      "overlap trial:  41% 207/500 [00:06<00:10, 28.84it/s]"
     ]
    },
    {
     "name": "stderr",
     "output_type": "stream",
     "text": [
      "\r",
      "overlap trial:  44% 220/500 [00:06<00:08, 34.22it/s]"
     ]
    },
    {
     "name": "stderr",
     "output_type": "stream",
     "text": [
      "\r",
      "overlap trial:  48% 242/500 [00:06<00:05, 47.21it/s]"
     ]
    },
    {
     "name": "stderr",
     "output_type": "stream",
     "text": [
      "\r",
      "overlap trial:  52% 258/500 [00:08<00:08, 27.17it/s]"
     ]
    },
    {
     "name": "stderr",
     "output_type": "stream",
     "text": [
      "\r",
      "overlap trial:  54% 269/500 [00:08<00:07, 31.12it/s]"
     ]
    },
    {
     "name": "stderr",
     "output_type": "stream",
     "text": [
      "\r",
      "overlap trial:  57% 284/500 [00:08<00:05, 40.01it/s]"
     ]
    },
    {
     "name": "stderr",
     "output_type": "stream",
     "text": [
      "\r",
      "overlap trial:  60% 301/500 [00:08<00:03, 52.10it/s]"
     ]
    },
    {
     "name": "stderr",
     "output_type": "stream",
     "text": [
      "\r",
      "overlap trial:  63% 314/500 [00:08<00:03, 61.46it/s]"
     ]
    },
    {
     "name": "stderr",
     "output_type": "stream",
     "text": [
      "\r",
      "overlap trial:  65% 327/500 [00:10<00:06, 26.03it/s]"
     ]
    },
    {
     "name": "stderr",
     "output_type": "stream",
     "text": [
      "\r",
      "overlap trial:  67% 337/500 [00:10<00:05, 31.12it/s]"
     ]
    },
    {
     "name": "stderr",
     "output_type": "stream",
     "text": [
      "\r",
      "overlap trial:  70% 351/500 [00:10<00:03, 40.76it/s]"
     ]
    },
    {
     "name": "stderr",
     "output_type": "stream",
     "text": [
      "\r",
      "overlap trial:  73% 364/500 [00:10<00:02, 50.92it/s]"
     ]
    },
    {
     "name": "stderr",
     "output_type": "stream",
     "text": [
      "\r",
      "overlap trial:  76% 379/500 [00:10<00:01, 62.11it/s]"
     ]
    },
    {
     "name": "stderr",
     "output_type": "stream",
     "text": [
      "\r",
      "overlap trial:  78% 391/500 [00:11<00:04, 25.75it/s]"
     ]
    },
    {
     "name": "stderr",
     "output_type": "stream",
     "text": [
      "\r",
      "overlap trial:  80% 400/500 [00:11<00:03, 30.07it/s]"
     ]
    },
    {
     "name": "stderr",
     "output_type": "stream",
     "text": [
      "\r",
      "overlap trial:  83% 413/500 [00:11<00:02, 39.65it/s]"
     ]
    },
    {
     "name": "stderr",
     "output_type": "stream",
     "text": [
      "\r",
      "overlap trial:  85% 426/500 [00:12<00:01, 50.04it/s]"
     ]
    },
    {
     "name": "stderr",
     "output_type": "stream",
     "text": [
      "\r",
      "overlap trial:  88% 438/500 [00:12<00:01, 60.23it/s]"
     ]
    },
    {
     "name": "stderr",
     "output_type": "stream",
     "text": [
      "\r",
      "overlap trial:  90% 449/500 [00:13<00:02, 25.07it/s]"
     ]
    },
    {
     "name": "stderr",
     "output_type": "stream",
     "text": [
      "\r",
      "overlap trial:  91% 457/500 [00:13<00:01, 28.46it/s]"
     ]
    },
    {
     "name": "stderr",
     "output_type": "stream",
     "text": [
      "\r",
      "overlap trial:  93% 465/500 [00:13<00:01, 32.96it/s]"
     ]
    },
    {
     "name": "stderr",
     "output_type": "stream",
     "text": [
      "\r",
      "overlap trial:  96% 482/500 [00:13<00:00, 49.90it/s]"
     ]
    },
    {
     "name": "stderr",
     "output_type": "stream",
     "text": [
      "\r",
      "overlap trial:  99% 495/500 [00:13<00:00, 61.84it/s]"
     ]
    },
    {
     "name": "stderr",
     "output_type": "stream",
     "text": [
      "\r",
      "overlap trial: 100% 500/500 [00:13<00:00, 36.34it/s]"
     ]
    },
    {
     "name": "stderr",
     "output_type": "stream",
     "text": [
      "\n"
     ]
    },
    {
     "data": {
      "image/png": "[encoded data removed]",
      "text/plain": [
       "<Figure size 546.075x450 with 1 Axes>"
      ]
     },
     "metadata": {},
     "output_type": "display_data"
    },
    {
     "data": {
      "image/png": "[encoded data removed]",
      "text/plain": [
       "<Figure size 546.075x450 with 1 Axes>"
      ]
     },
     "metadata": {},
     "output_type": "display_data"
    }
   ],
   "source": [
    "path = path.replace('col', 'ortho')\n",
    "path = path.replace('seed_2', 'seed_1')\n",
    "ksi_path = ksi_path.replace('seed_ksi_2', 'seed_ksi_1')\n",
    "\n",
    "plot_kappa_plane(path=path, ksi_path=ksi_path, n_trials=n_trials)"
   ]
  },
  {
   "cell_type": "code",
   "execution_count": 133,
   "id": "62428f31-eadc-4edb-9ff9-e442444faf80",
   "metadata": {
    "collapsed": false
   },
   "outputs": [],
   "source": []
  },
  {
   "cell_type": "code",
   "execution_count": 121,
   "id": "28cf17dd-f61d-4b87-b0ed-27d68b4079d3",
   "metadata": {
    "collapsed": false
   },
   "outputs": [],
   "source": []
  },
  {
   "cell_type": "code",
   "execution_count": null,
   "id": "693019d2-5395-4fc2-9f95-9a0580f8c9b0",
   "metadata": {
    "collapsed": false
   },
   "outputs": [],
   "source": []
  }
 ],
 "metadata": {
  "kernelspec": {
   "argv": [
    "/home/leon/mambaforge/bin/python",
    "-m",
    "ipykernel_launcher",
    "-f",
    "{connection_file}"
   ],
   "display_name": "Python 3 (ipykernel)",
   "env": null,
   "interrupt_mode": "signal",
   "language": "python",
   "metadata": {
    "debugger": true
   },
   "name": "python3"
  },
  "name": "dual_model.ipynb"
 },
 "nbformat": 4,
 "nbformat_minor": 5
}
