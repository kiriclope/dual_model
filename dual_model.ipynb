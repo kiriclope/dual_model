{
 "cells": [
  {
   "cell_type": "code",
   "execution_count": 25,
   "id": "b03cd2ed-18e7-4c4b-a726-4744fa818e05",
   "metadata": {
    "collapsed": false
   },
   "outputs": [
    {
     "data": {
      "text/plain": [
       "[]"
      ]
     },
     "execution_count": 25,
     "metadata": {},
     "output_type": "execute_result"
    },
    {
     "data": {
      "image/png": "[encoded data removed]",
      "text/plain": [
       "<Figure size 546.075x450 with 1 Axes>"
      ]
     },
     "metadata": {},
     "output_type": "display_data"
    }
   ],
   "source": [
    "import matplotlib\n",
    "matplotlib.rcParams['figure.figsize'] = [2.427 * .75, 1.5]\n",
    "\n",
    "import matplotlib.pyplot as plt\n",
    "plt.figure()\n",
    "plt.plot()"
   ]
  },
  {
   "cell_type": "code",
   "execution_count": 26,
   "id": "73c96b36-fdbc-43e3-a191-5185bb6e76e2",
   "metadata": {
    "collapsed": false
   },
   "outputs": [],
   "source": [
    "import importlib\n",
    "import dual\n",
    "importlib.reload(dual)\n",
    "\n",
    "from dual.params import path, ksi_path\n",
    "from dual.phase_plane import get_overlaps, plot_phase_plane, plot_phase_dist\n",
    "n_trials = 500"
   ]
  },
  {
   "cell_type": "markdown",
   "id": "8a425c14-1bdd-40ce-9c39-2e2fa4ab2e6b",
   "metadata": {
    "collapsed": false
   },
   "source": [
    "Case $\\xi_S $ and $\\xi_D$  anti colinear "
   ]
  },
  {
   "cell_type": "code",
   "execution_count": 27,
   "id": "e013bdf2-faf3-4f3c-b932-5f3653bf95ad",
   "metadata": {
    "collapsed": false
   },
   "outputs": [
    {
     "name": "stdout",
     "output_type": "stream",
     "text": [
      "/home/leon/bebopalula/cpp/model/simulations/lif/2pop/dual_col/NE_32_NI_8/K2000/STP/Tf_400_Tr_200_U_0.03/low_rank/kappa_4.70_kappa_1_4.70/seed_2\n",
      "/home/leon/bebopalula/cpp/model/connectivity/2pop/NE_32_NI_8/low_rank/rank_2/seed_ksi_2\n"
     ]
    },
    {
     "name": "stderr",
     "output_type": "stream",
     "text": [
      "\r",
      "overlap trial:   0% 0/500 [00:00<?, ?it/s]"
     ]
    },
    {
     "name": "stderr",
     "output_type": "stream",
     "text": [
      "\r",
      "overlap trial:   0% 1/500 [00:01<13:17,  1.60s/it]"
     ]
    },
    {
     "name": "stderr",
     "output_type": "stream",
     "text": [
      "\r",
      "overlap trial:   5% 23/500 [00:01<00:25, 18.51it/s]"
     ]
    },
    {
     "name": "stderr",
     "output_type": "stream",
     "text": [
      "\r",
      "overlap trial:  12% 60/500 [00:01<00:08, 53.21it/s]"
     ]
    },
    {
     "name": "stderr",
     "output_type": "stream",
     "text": [
      "\r",
      "overlap trial:  16% 80/500 [00:03<00:16, 25.85it/s]"
     ]
    },
    {
     "name": "stderr",
     "output_type": "stream",
     "text": [
      "\r",
      "overlap trial:  22% 108/500 [00:03<00:09, 41.27it/s]"
     ]
    },
    {
     "name": "stderr",
     "output_type": "stream",
     "text": [
      "\r",
      "overlap trial:  25% 126/500 [00:03<00:07, 49.97it/s]"
     ]
    },
    {
     "name": "stderr",
     "output_type": "stream",
     "text": [
      "\r",
      "overlap trial:  28% 142/500 [00:05<00:13, 26.43it/s]"
     ]
    },
    {
     "name": "stderr",
     "output_type": "stream",
     "text": [
      "\r",
      "overlap trial:  34% 171/500 [00:05<00:07, 41.56it/s]"
     ]
    },
    {
     "name": "stderr",
     "output_type": "stream",
     "text": [
      "\r",
      "overlap trial:  38% 188/500 [00:05<00:06, 47.64it/s]"
     ]
    },
    {
     "name": "stderr",
     "output_type": "stream",
     "text": [
      "\r",
      "overlap trial:  40% 202/500 [00:06<00:11, 26.31it/s]"
     ]
    },
    {
     "name": "stderr",
     "output_type": "stream",
     "text": [
      "\r",
      "overlap trial:  43% 214/500 [00:06<00:09, 31.70it/s]"
     ]
    },
    {
     "name": "stderr",
     "output_type": "stream",
     "text": [
      "\r",
      "overlap trial:  49% 244/500 [00:06<00:04, 51.63it/s]"
     ]
    },
    {
     "name": "stderr",
     "output_type": "stream",
     "text": [
      "\r",
      "overlap trial:  52% 260/500 [00:08<00:08, 27.84it/s]"
     ]
    },
    {
     "name": "stderr",
     "output_type": "stream",
     "text": [
      "\r",
      "overlap trial:  54% 272/500 [00:08<00:07, 31.80it/s]"
     ]
    },
    {
     "name": "stderr",
     "output_type": "stream",
     "text": [
      "\r",
      "overlap trial:  58% 289/500 [00:08<00:05, 41.99it/s]"
     ]
    },
    {
     "name": "stderr",
     "output_type": "stream",
     "text": [
      "\r",
      "overlap trial:  62% 312/500 [00:08<00:03, 59.12it/s]"
     ]
    },
    {
     "name": "stderr",
     "output_type": "stream",
     "text": [
      "\r",
      "overlap trial:  65% 327/500 [00:09<00:05, 28.93it/s]"
     ]
    },
    {
     "name": "stderr",
     "output_type": "stream",
     "text": [
      "\r",
      "overlap trial:  68% 338/500 [00:10<00:04, 32.59it/s]"
     ]
    },
    {
     "name": "stderr",
     "output_type": "stream",
     "text": [
      "\r",
      "overlap trial:  72% 359/500 [00:10<00:03, 46.84it/s]"
     ]
    },
    {
     "name": "stderr",
     "output_type": "stream",
     "text": [
      "\r",
      "overlap trial:  75% 376/500 [00:10<00:02, 58.42it/s]"
     ]
    },
    {
     "name": "stderr",
     "output_type": "stream",
     "text": [
      "\r",
      "overlap trial:  78% 389/500 [00:11<00:04, 27.43it/s]"
     ]
    },
    {
     "name": "stderr",
     "output_type": "stream",
     "text": [
      "\r",
      "overlap trial:  80% 399/500 [00:11<00:03, 30.67it/s]"
     ]
    },
    {
     "name": "stderr",
     "output_type": "stream",
     "text": [
      "\r",
      "overlap trial:  82% 411/500 [00:11<00:02, 38.26it/s]"
     ]
    },
    {
     "name": "stderr",
     "output_type": "stream",
     "text": [
      "\r",
      "overlap trial:  86% 432/500 [00:11<00:01, 56.72it/s]"
     ]
    },
    {
     "name": "stderr",
     "output_type": "stream",
     "text": [
      "\r",
      "overlap trial:  89% 446/500 [00:12<00:00, 67.05it/s]"
     ]
    },
    {
     "name": "stderr",
     "output_type": "stream",
     "text": [
      "\r",
      "overlap trial:  92% 459/500 [00:13<00:01, 29.30it/s]"
     ]
    },
    {
     "name": "stderr",
     "output_type": "stream",
     "text": [
      "\r",
      "overlap trial:  94% 469/500 [00:13<00:00, 31.85it/s]"
     ]
    },
    {
     "name": "stderr",
     "output_type": "stream",
     "text": [
      "\r",
      "overlap trial:  97% 484/500 [00:13<00:00, 42.51it/s]"
     ]
    },
    {
     "name": "stderr",
     "output_type": "stream",
     "text": [
      "\r",
      "overlap trial: 100% 500/500 [00:13<00:00, 55.17it/s]"
     ]
    },
    {
     "name": "stderr",
     "output_type": "stream",
     "text": [
      "\r",
      "overlap trial: 100% 500/500 [00:13<00:00, 36.57it/s]"
     ]
    },
    {
     "name": "stderr",
     "output_type": "stream",
     "text": [
      "\n"
     ]
    },
    {
     "name": "stderr",
     "output_type": "stream",
     "text": [
      "\r",
      "overlap trial:   0% 0/500 [00:00<?, ?it/s]"
     ]
    },
    {
     "name": "stderr",
     "output_type": "stream",
     "text": [
      "\r",
      "overlap trial:   0% 1/500 [00:01<13:14,  1.59s/it]"
     ]
    },
    {
     "name": "stderr",
     "output_type": "stream",
     "text": [
      "\r",
      "overlap trial:   4% 22/500 [00:01<00:26, 17.83it/s]"
     ]
    },
    {
     "name": "stderr",
     "output_type": "stream",
     "text": [
      "\r",
      "overlap trial:  12% 58/500 [00:02<00:11, 38.90it/s]"
     ]
    },
    {
     "name": "stderr",
     "output_type": "stream",
     "text": [
      "\r",
      "overlap trial:  14% 69/500 [00:03<00:19, 22.51it/s]"
     ]
    },
    {
     "name": "stderr",
     "output_type": "stream",
     "text": [
      "\r",
      "overlap trial:  18% 91/500 [00:03<00:11, 35.18it/s]"
     ]
    },
    {
     "name": "stderr",
     "output_type": "stream",
     "text": [
      "\r",
      "overlap trial:  24% 121/500 [00:03<00:06, 56.99it/s]"
     ]
    },
    {
     "name": "stderr",
     "output_type": "stream",
     "text": [
      "\r",
      "overlap trial:  28% 139/500 [00:05<00:13, 27.62it/s]"
     ]
    },
    {
     "name": "stderr",
     "output_type": "stream",
     "text": [
      "\r",
      "overlap trial:  33% 167/500 [00:05<00:07, 41.84it/s]"
     ]
    },
    {
     "name": "stderr",
     "output_type": "stream",
     "text": [
      "\r",
      "overlap trial:  37% 186/500 [00:05<00:07, 44.47it/s]"
     ]
    },
    {
     "name": "stderr",
     "output_type": "stream",
     "text": [
      "\r",
      "overlap trial:  40% 200/500 [00:06<00:10, 28.11it/s]"
     ]
    },
    {
     "name": "stderr",
     "output_type": "stream",
     "text": [
      "\r",
      "overlap trial:  42% 210/500 [00:06<00:08, 32.31it/s]"
     ]
    },
    {
     "name": "stderr",
     "output_type": "stream",
     "text": [
      "\r",
      "overlap trial:  46% 231/500 [00:06<00:05, 46.17it/s]"
     ]
    },
    {
     "name": "stderr",
     "output_type": "stream",
     "text": [
      "\r",
      "overlap trial:  50% 249/500 [00:07<00:04, 57.43it/s]"
     ]
    },
    {
     "name": "stderr",
     "output_type": "stream",
     "text": [
      "\r",
      "overlap trial:  53% 263/500 [00:08<00:08, 27.73it/s]"
     ]
    },
    {
     "name": "stderr",
     "output_type": "stream",
     "text": [
      "\r",
      "overlap trial:  55% 273/500 [00:08<00:07, 31.40it/s]"
     ]
    },
    {
     "name": "stderr",
     "output_type": "stream",
     "text": [
      "\r",
      "overlap trial:  58% 291/500 [00:08<00:04, 43.87it/s]"
     ]
    },
    {
     "name": "stderr",
     "output_type": "stream",
     "text": [
      "\r",
      "overlap trial:  62% 310/500 [00:08<00:03, 59.36it/s]"
     ]
    },
    {
     "name": "stderr",
     "output_type": "stream",
     "text": [
      "\r",
      "overlap trial:  65% 324/500 [00:09<00:06, 27.65it/s]"
     ]
    },
    {
     "name": "stderr",
     "output_type": "stream",
     "text": [
      "\r",
      "overlap trial:  67% 334/500 [00:10<00:05, 30.97it/s]"
     ]
    },
    {
     "name": "stderr",
     "output_type": "stream",
     "text": [
      "\r",
      "overlap trial:  69% 347/500 [00:10<00:03, 39.42it/s]"
     ]
    },
    {
     "name": "stderr",
     "output_type": "stream",
     "text": [
      "\r",
      "overlap trial:  73% 363/500 [00:10<00:02, 52.57it/s]"
     ]
    },
    {
     "name": "stderr",
     "output_type": "stream",
     "text": [
      "\r",
      "overlap trial:  75% 375/500 [00:10<00:02, 61.34it/s]"
     ]
    },
    {
     "name": "stderr",
     "output_type": "stream",
     "text": [
      "\r",
      "overlap trial:  77% 387/500 [00:11<00:04, 27.01it/s]"
     ]
    },
    {
     "name": "stderr",
     "output_type": "stream",
     "text": [
      "\r",
      "overlap trial:  79% 396/500 [00:11<00:03, 28.49it/s]"
     ]
    },
    {
     "name": "stderr",
     "output_type": "stream",
     "text": [
      "\r",
      "overlap trial:  82% 410/500 [00:11<00:02, 38.35it/s]"
     ]
    },
    {
     "name": "stderr",
     "output_type": "stream",
     "text": [
      "\r",
      "overlap trial:  85% 425/500 [00:11<00:01, 50.79it/s]"
     ]
    },
    {
     "name": "stderr",
     "output_type": "stream",
     "text": [
      "\r",
      "overlap trial:  89% 443/500 [00:12<00:00, 67.91it/s]"
     ]
    },
    {
     "name": "stderr",
     "output_type": "stream",
     "text": [
      "\r",
      "overlap trial:  91% 455/500 [00:13<00:01, 30.23it/s]"
     ]
    },
    {
     "name": "stderr",
     "output_type": "stream",
     "text": [
      "\r",
      "overlap trial:  93% 464/500 [00:13<00:01, 32.48it/s]"
     ]
    },
    {
     "name": "stderr",
     "output_type": "stream",
     "text": [
      "\r",
      "overlap trial:  94% 472/500 [00:13<00:00, 36.32it/s]"
     ]
    },
    {
     "name": "stderr",
     "output_type": "stream",
     "text": [
      "\r",
      "overlap trial:  97% 484/500 [00:13<00:00, 46.47it/s]"
     ]
    },
    {
     "name": "stderr",
     "output_type": "stream",
     "text": [
      "\r",
      "overlap trial:  99% 497/500 [00:13<00:00, 58.70it/s]"
     ]
    },
    {
     "name": "stderr",
     "output_type": "stream",
     "text": [
      "\r",
      "overlap trial: 100% 500/500 [00:13<00:00, 36.59it/s]"
     ]
    },
    {
     "name": "stderr",
     "output_type": "stream",
     "text": [
      "\n"
     ]
    },
    {
     "data": {
      "image/png": "[encoded data removed]",
      "text/plain": [
       "<Figure size 546.075x450 with 1 Axes>"
      ]
     },
     "metadata": {},
     "output_type": "display_data"
    }
   ],
   "source": [
    "sample, dist = get_overlaps(path=path, ksi_path=ksi_path, n_trials=n_trials)\n",
    "plot_phase_plane(sample, dist)\n"
   ]
  },
  {
   "cell_type": "markdown",
   "id": "1b31835b-811e-4b19-bf5e-27e372f36a15",
   "metadata": {
    "collapsed": false
   },
   "source": [
    "Case $\\xi_S $ and $\\xi_D$ orthogonal "
   ]
  },
  {
   "cell_type": "code",
   "execution_count": 23,
   "id": "cdfc44f2-549d-4a59-b2ca-5c0510f231c5",
   "metadata": {
    "collapsed": false
   },
   "outputs": [
    {
     "name": "stdout",
     "output_type": "stream",
     "text": [
      "/home/leon/bebopalula/cpp/model/simulations/lif/2pop/dual_ortho/NE_32_NI_8/K2000/STP/Tf_400_Tr_200_U_0.03/low_rank/kappa_4.70_kappa_1_4.70/seed_1\n",
      "/home/leon/bebopalula/cpp/model/connectivity/2pop/NE_32_NI_8/low_rank/rank_2/seed_ksi_1\n"
     ]
    },
    {
     "name": "stderr",
     "output_type": "stream",
     "text": [
      "\r",
      "overlap trial:   0% 0/500 [00:00<?, ?it/s]"
     ]
    },
    {
     "name": "stderr",
     "output_type": "stream",
     "text": [
      "\r",
      "overlap trial:   0% 1/500 [00:01<13:15,  1.59s/it]"
     ]
    },
    {
     "name": "stderr",
     "output_type": "stream",
     "text": [
      "\r",
      "overlap trial:   3% 17/500 [00:01<00:35, 13.71it/s]"
     ]
    },
    {
     "name": "stderr",
     "output_type": "stream",
     "text": [
      "\r",
      "overlap trial:  11% 55/500 [00:01<00:08, 51.79it/s]"
     ]
    },
    {
     "name": "stderr",
     "output_type": "stream",
     "text": [
      "\r",
      "overlap trial:  15% 77/500 [00:03<00:16, 25.41it/s]"
     ]
    },
    {
     "name": "stderr",
     "output_type": "stream",
     "text": [
      "\r",
      "overlap trial:  22% 110/500 [00:03<00:08, 43.61it/s]"
     ]
    },
    {
     "name": "stderr",
     "output_type": "stream",
     "text": [
      "\r",
      "overlap trial:  26% 131/500 [00:05<00:13, 26.57it/s]"
     ]
    },
    {
     "name": "stderr",
     "output_type": "stream",
     "text": [
      "\r",
      "overlap trial:  29% 147/500 [00:05<00:10, 33.24it/s]"
     ]
    },
    {
     "name": "stderr",
     "output_type": "stream",
     "text": [
      "\r",
      "overlap trial:  36% 179/500 [00:05<00:06, 52.10it/s]"
     ]
    },
    {
     "name": "stderr",
     "output_type": "stream",
     "text": [
      "\r",
      "overlap trial:  40% 199/500 [00:06<00:10, 29.47it/s]"
     ]
    },
    {
     "name": "stderr",
     "output_type": "stream",
     "text": [
      "\r",
      "overlap trial:  43% 213/500 [00:06<00:08, 35.07it/s]"
     ]
    },
    {
     "name": "stderr",
     "output_type": "stream",
     "text": [
      "\r",
      "overlap trial:  48% 239/500 [00:06<00:05, 50.81it/s]"
     ]
    },
    {
     "name": "stderr",
     "output_type": "stream",
     "text": [
      "\r",
      "overlap trial:  51% 257/500 [00:08<00:08, 29.12it/s]"
     ]
    },
    {
     "name": "stderr",
     "output_type": "stream",
     "text": [
      "\r",
      "overlap trial:  54% 270/500 [00:08<00:06, 33.40it/s]"
     ]
    },
    {
     "name": "stderr",
     "output_type": "stream",
     "text": [
      "\r",
      "overlap trial:  58% 289/500 [00:08<00:04, 44.61it/s]"
     ]
    },
    {
     "name": "stderr",
     "output_type": "stream",
     "text": [
      "\r",
      "overlap trial:  62% 308/500 [00:08<00:03, 57.96it/s]"
     ]
    },
    {
     "name": "stderr",
     "output_type": "stream",
     "text": [
      "\r",
      "overlap trial:  65% 323/500 [00:09<00:06, 28.27it/s]"
     ]
    },
    {
     "name": "stderr",
     "output_type": "stream",
     "text": [
      "\r",
      "overlap trial:  67% 334/500 [00:10<00:05, 32.13it/s]"
     ]
    },
    {
     "name": "stderr",
     "output_type": "stream",
     "text": [
      "\r",
      "overlap trial:  70% 348/500 [00:10<00:03, 40.54it/s]"
     ]
    },
    {
     "name": "stderr",
     "output_type": "stream",
     "text": [
      "\r",
      "overlap trial:  75% 376/500 [00:10<00:01, 64.75it/s]"
     ]
    },
    {
     "name": "stderr",
     "output_type": "stream",
     "text": [
      "\r",
      "overlap trial:  78% 392/500 [00:11<00:03, 29.96it/s]"
     ]
    },
    {
     "name": "stderr",
     "output_type": "stream",
     "text": [
      "\r",
      "overlap trial:  81% 403/500 [00:11<00:02, 33.67it/s]"
     ]
    },
    {
     "name": "stderr",
     "output_type": "stream",
     "text": [
      "\r",
      "overlap trial:  83% 416/500 [00:11<00:02, 41.64it/s]"
     ]
    },
    {
     "name": "stderr",
     "output_type": "stream",
     "text": [
      "\r",
      "overlap trial:  87% 436/500 [00:12<00:01, 57.77it/s]"
     ]
    },
    {
     "name": "stderr",
     "output_type": "stream",
     "text": [
      "\r",
      "overlap trial:  90% 449/500 [00:13<00:01, 29.80it/s]"
     ]
    },
    {
     "name": "stderr",
     "output_type": "stream",
     "text": [
      "\r",
      "overlap trial:  92% 459/500 [00:13<00:01, 31.71it/s]"
     ]
    },
    {
     "name": "stderr",
     "output_type": "stream",
     "text": [
      "\r",
      "overlap trial:  94% 471/500 [00:13<00:00, 39.47it/s]"
     ]
    },
    {
     "name": "stderr",
     "output_type": "stream",
     "text": [
      "\r",
      "overlap trial:  96% 480/500 [00:13<00:00, 44.81it/s]"
     ]
    },
    {
     "name": "stderr",
     "output_type": "stream",
     "text": [
      "\r",
      "overlap trial:  99% 497/500 [00:13<00:00, 60.91it/s]"
     ]
    },
    {
     "name": "stderr",
     "output_type": "stream",
     "text": [
      "\r",
      "overlap trial: 100% 500/500 [00:13<00:00, 36.37it/s]"
     ]
    },
    {
     "name": "stderr",
     "output_type": "stream",
     "text": [
      "\n"
     ]
    },
    {
     "name": "stderr",
     "output_type": "stream",
     "text": [
      "\r",
      "overlap trial:   0% 0/500 [00:00<?, ?it/s]"
     ]
    },
    {
     "name": "stderr",
     "output_type": "stream",
     "text": [
      "\r",
      "overlap trial:   0% 1/500 [00:01<13:20,  1.60s/it]"
     ]
    },
    {
     "name": "stderr",
     "output_type": "stream",
     "text": [
      "\r",
      "overlap trial:   3% 13/500 [00:01<00:46, 10.38it/s]"
     ]
    },
    {
     "name": "stderr",
     "output_type": "stream",
     "text": [
      "\r",
      "overlap trial:  11% 53/500 [00:01<00:08, 51.08it/s]"
     ]
    },
    {
     "name": "stderr",
     "output_type": "stream",
     "text": [
      "\r",
      "overlap trial:  15% 76/500 [00:03<00:16, 25.58it/s]"
     ]
    },
    {
     "name": "stderr",
     "output_type": "stream",
     "text": [
      "\r",
      "overlap trial:  21% 105/500 [00:03<00:09, 41.41it/s]"
     ]
    },
    {
     "name": "stderr",
     "output_type": "stream",
     "text": [
      "\r",
      "overlap trial:  25% 125/500 [00:04<00:09, 39.48it/s]"
     ]
    },
    {
     "name": "stderr",
     "output_type": "stream",
     "text": [
      "\r",
      "overlap trial:  28% 139/500 [00:05<00:12, 28.13it/s]"
     ]
    },
    {
     "name": "stderr",
     "output_type": "stream",
     "text": [
      "\r",
      "overlap trial:  32% 158/500 [00:05<00:09, 37.86it/s]"
     ]
    },
    {
     "name": "stderr",
     "output_type": "stream",
     "text": [
      "\r",
      "overlap trial:  36% 180/500 [00:05<00:06, 51.08it/s]"
     ]
    },
    {
     "name": "stderr",
     "output_type": "stream",
     "text": [
      "\r",
      "overlap trial:  39% 194/500 [00:06<00:11, 27.60it/s]"
     ]
    },
    {
     "name": "stderr",
     "output_type": "stream",
     "text": [
      "\r",
      "overlap trial:  41% 204/500 [00:06<00:09, 30.61it/s]"
     ]
    },
    {
     "name": "stderr",
     "output_type": "stream",
     "text": [
      "\r",
      "overlap trial:  44% 219/500 [00:06<00:07, 39.64it/s]"
     ]
    },
    {
     "name": "stderr",
     "output_type": "stream",
     "text": [
      "\r",
      "overlap trial:  48% 240/500 [00:06<00:04, 56.46it/s]"
     ]
    },
    {
     "name": "stderr",
     "output_type": "stream",
     "text": [
      "\r",
      "overlap trial:  51% 254/500 [00:07<00:05, 42.69it/s]"
     ]
    },
    {
     "name": "stderr",
     "output_type": "stream",
     "text": [
      "\r",
      "overlap trial:  53% 265/500 [00:08<00:08, 27.82it/s]"
     ]
    },
    {
     "name": "stderr",
     "output_type": "stream",
     "text": [
      "\r",
      "overlap trial:  55% 273/500 [00:08<00:07, 31.57it/s]"
     ]
    },
    {
     "name": "stderr",
     "output_type": "stream",
     "text": [
      "\r",
      "overlap trial:  59% 294/500 [00:08<00:04, 48.72it/s]"
     ]
    },
    {
     "name": "stderr",
     "output_type": "stream",
     "text": [
      "\r",
      "overlap trial:  61% 306/500 [00:08<00:03, 56.98it/s]"
     ]
    },
    {
     "name": "stderr",
     "output_type": "stream",
     "text": [
      "\r",
      "overlap trial:  64% 318/500 [00:09<00:05, 34.59it/s]"
     ]
    },
    {
     "name": "stderr",
     "output_type": "stream",
     "text": [
      "\r",
      "overlap trial:  65% 327/500 [00:09<00:06, 27.61it/s]"
     ]
    },
    {
     "name": "stderr",
     "output_type": "stream",
     "text": [
      "\r",
      "overlap trial:  67% 334/500 [00:10<00:05, 30.50it/s]"
     ]
    },
    {
     "name": "stderr",
     "output_type": "stream",
     "text": [
      "\r",
      "overlap trial:  69% 344/500 [00:10<00:04, 37.97it/s]"
     ]
    },
    {
     "name": "stderr",
     "output_type": "stream",
     "text": [
      "\r",
      "overlap trial:  72% 360/500 [00:10<00:02, 53.90it/s]"
     ]
    },
    {
     "name": "stderr",
     "output_type": "stream",
     "text": [
      "\r",
      "overlap trial:  74% 371/500 [00:10<00:02, 62.63it/s]"
     ]
    },
    {
     "name": "stderr",
     "output_type": "stream",
     "text": [
      "\r",
      "overlap trial:  76% 381/500 [00:11<00:03, 35.51it/s]"
     ]
    },
    {
     "name": "stderr",
     "output_type": "stream",
     "text": [
      "\r",
      "overlap trial:  78% 389/500 [00:11<00:04, 26.28it/s]"
     ]
    },
    {
     "name": "stderr",
     "output_type": "stream",
     "text": [
      "\r",
      "overlap trial:  79% 395/500 [00:11<00:03, 29.10it/s]"
     ]
    },
    {
     "name": "stderr",
     "output_type": "stream",
     "text": [
      "\r",
      "overlap trial:  81% 404/500 [00:11<00:02, 36.19it/s]"
     ]
    },
    {
     "name": "stderr",
     "output_type": "stream",
     "text": [
      "\r",
      "overlap trial:  83% 416/500 [00:11<00:01, 46.90it/s]"
     ]
    },
    {
     "name": "stderr",
     "output_type": "stream",
     "text": [
      "\r",
      "overlap trial:  86% 431/500 [00:12<00:01, 63.82it/s]"
     ]
    },
    {
     "name": "stderr",
     "output_type": "stream",
     "text": [
      "\r",
      "overlap trial:  88% 441/500 [00:12<00:01, 50.83it/s]"
     ]
    },
    {
     "name": "stderr",
     "output_type": "stream",
     "text": [
      "\r",
      "overlap trial:  90% 449/500 [00:12<00:01, 30.62it/s]"
     ]
    },
    {
     "name": "stderr",
     "output_type": "stream",
     "text": [
      "\r",
      "overlap trial:  91% 455/500 [00:13<00:01, 28.01it/s]"
     ]
    },
    {
     "name": "stderr",
     "output_type": "stream",
     "text": [
      "\r",
      "overlap trial:  92% 460/500 [00:13<00:01, 30.35it/s]"
     ]
    },
    {
     "name": "stderr",
     "output_type": "stream",
     "text": [
      "\r",
      "overlap trial:  93% 467/500 [00:13<00:00, 35.94it/s]"
     ]
    },
    {
     "name": "stderr",
     "output_type": "stream",
     "text": [
      "\r",
      "overlap trial:  96% 480/500 [00:13<00:00, 51.56it/s]"
     ]
    },
    {
     "name": "stderr",
     "output_type": "stream",
     "text": [
      "\r",
      "overlap trial:  98% 489/500 [00:13<00:00, 59.03it/s]"
     ]
    },
    {
     "name": "stderr",
     "output_type": "stream",
     "text": [
      "\r",
      "overlap trial: 100% 500/500 [00:13<00:00, 65.89it/s]"
     ]
    },
    {
     "name": "stderr",
     "output_type": "stream",
     "text": [
      "\r",
      "overlap trial: 100% 500/500 [00:13<00:00, 36.36it/s]"
     ]
    },
    {
     "name": "stderr",
     "output_type": "stream",
     "text": [
      "\n"
     ]
    },
    {
     "data": {
      "image/png": "[encoded data removed]",
      "text/plain": [
       "<Figure size 546.075x450 with 1 Axes>"
      ]
     },
     "metadata": {},
     "output_type": "display_data"
    }
   ],
   "source": [
    "path = path.replace('col', 'ortho')\n",
    "path = path.replace('seed_2', 'seed_1')\n",
    "ksi_path = ksi_path.replace('seed_ksi_2', 'seed_ksi_1')\n",
    "\n",
    "sample, dist = get_overlaps(path=path, ksi_path=ksi_path, n_trials=n_trials)\n",
    "plot_phase_plane(sample, dist)\n"
   ]
  },
  {
   "cell_type": "code",
   "execution_count": 21,
   "id": "08ab5eb1-1a12-4b42-8c86-70c6e491937c",
   "metadata": {
    "collapsed": false
   },
   "outputs": [
    {
     "data": {
      "image/png": "[encoded data removed]",
      "text/plain": [
       "<Figure size 546.075x450 with 1 Axes>"
      ]
     },
     "metadata": {},
     "output_type": "display_data"
    }
   ],
   "source": [
    "plt.figure()\n",
    "circle = plt.Circle((0,0),5, fill=False)\n",
    "ax = plt.gca()\n",
    "ax.add_patch(circle)\n",
    "plt.xlim([-5,5])\n",
    "plt.ylim([-5,5])\n",
    "\n",
    "plt.show()"
   ]
  },
  {
   "cell_type": "code",
   "execution_count": 20,
   "id": "ce4e5ff4-6061-41ac-a2b9-d97bf171ec66",
   "metadata": {
    "collapsed": false
   },
   "outputs": [
    {
     "ename": "TypeError",
     "evalue": "cannot unpack non-iterable Figure object",
     "output_type": "error",
     "traceback": [
      "\u001b[0;31m---------------------------------------------------------------------------\u001b[0m",
      "\u001b[0;31mTypeError\u001b[0m                                 Traceback (most recent call last)",
      "Cell \u001b[0;32mIn[20], line 1\u001b[0m\n\u001b[0;32m----> 1\u001b[0m fig, ax\u001b[38;5;241m=\u001b[39m plt\u001b[38;5;241m.\u001b[39mfigure()\n",
      "\u001b[0;31mTypeError\u001b[0m: cannot unpack non-iterable Figure object"
     ]
    },
    {
     "data": {
      "text/plain": [
       "<Figure size 546.075x450 with 0 Axes>"
      ]
     },
     "metadata": {},
     "output_type": "display_data"
    },
    {
     "ename": "TypeError",
     "evalue": "cannot unpack non-iterable Figure object",
     "output_type": "error",
     "traceback": [
      "\u001b[0;31m---------------------------------------------------------------------------\u001b[0m",
      "\u001b[0;31mTypeError\u001b[0m                                 Traceback (most recent call last)",
      "Cell \u001b[0;32mIn[20], line 1\u001b[0m\n\u001b[0;32m----> 1\u001b[0m fig, ax\u001b[38;5;241m=\u001b[39m plt\u001b[38;5;241m.\u001b[39mfigure()\n",
      "\u001b[0;31mTypeError\u001b[0m: cannot unpack non-iterable Figure object"
     ]
    }
   ],
   "source": [
    "fig, ax= plt.figure()"
   ]
  },
  {
   "cell_type": "code",
   "execution_count": null,
   "id": "da792578-eb97-4c7b-b1cb-bf82f843dbdf",
   "metadata": {
    "collapsed": false
   },
   "outputs": [],
   "source": []
  }
 ],
 "metadata": {
  "kernelspec": {
   "argv": [
    "/home/leon/mambaforge/bin/python",
    "-m",
    "ipykernel_launcher",
    "-f",
    "{connection_file}"
   ],
   "display_name": "Python 3 (ipykernel)",
   "env": null,
   "interrupt_mode": "signal",
   "language": "python",
   "metadata": {
    "debugger": true
   },
   "name": "python3"
  },
  "name": "dual_model.ipynb"
 },
 "nbformat": 4,
 "nbformat_minor": 5
}
